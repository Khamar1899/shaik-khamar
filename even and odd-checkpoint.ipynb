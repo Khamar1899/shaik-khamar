{
 "cells": [
  {
   "cell_type": "code",
   "execution_count": 1,
   "id": "d289bfb8",
   "metadata": {},
   "outputs": [
    {
     "name": "stdout",
     "output_type": "stream",
     "text": [
      "the number of odd numbers are: 5\n",
      "the number of even numbers are: 5\n"
     ]
    }
   ],
   "source": [
    "x=[1,2,3,4,5,6,7,8,9,10]\n",
    "count_odd=0\n",
    "count_even=0\n",
    "for i in x:\n",
    "    if i%2==0:\n",
    "        count_even+=1\n",
    "    else:\n",
    "        count_odd+=1\n",
    "print(\"the number of odd numbers are:\",count_odd)        \n",
    "print(\"the number of even numbers are:\",count_even)"
   ]
  },
  {
   "cell_type": "code",
   "execution_count": null,
   "id": "131a6cac",
   "metadata": {},
   "outputs": [],
   "source": []
  }
 ],
 "metadata": {
  "kernelspec": {
   "display_name": "Python 3 (ipykernel)",
   "language": "python",
   "name": "python3"
  },
  "language_info": {
   "codemirror_mode": {
    "name": "ipython",
    "version": 3
   },
   "file_extension": ".py",
   "mimetype": "text/x-python",
   "name": "python",
   "nbconvert_exporter": "python",
   "pygments_lexer": "ipython3",
   "version": "3.9.6"
  }
 },
 "nbformat": 4,
 "nbformat_minor": 5
}
