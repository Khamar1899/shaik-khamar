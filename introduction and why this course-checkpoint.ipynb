{
 "cells": [
  {
   "cell_type": "markdown",
   "id": "eb89bf69",
   "metadata": {},
   "source": [
    "# introduction\n",
    "Good evening sir,\n",
    "First of all, i would like to thank you for giving me an opportunity to introduce myself.\n",
    "my name is khamar, i was born and raised in guntur.and currently, i am pursuing data science from edyoda digital university.\n",
    "i have done my undergradution in electronic engineering from gvr and s college of engineering and technology with 6.86(cgpa).\n",
    "i did my intermediate from state board with 72.8% and high school from state board with 85%.\n",
    "talking about my family, my family consists of six numbers including me,my older brother and younger sister. my father is a tailor and my mother also tailor.\n",
    "my hobbies are playing chess, shuttle and teaching kids.\n",
    "coming to my strengths and weaknesses, my strengths are being hard-working, easily adaptable to any kind of environment and i have a positive attitude. my weakness is i am not comfortable until i finish my work in the given time.\n",
    "my short-term goal is to get a job in a reputable company.\n",
    "my long-term goal is to become a more responsible and knowledgeable personality and in a respectable position in my company.\n",
    "that's all about me!\n",
    "thank you very much for giving me a great opportunity to introduce myself."
   ]
  },
  {
   "cell_type": "markdown",
   "id": "b58e6394",
   "metadata": {},
   "source": [
    "# why this course\n",
    "data science has become a revolutionary technology.it is a buzzword with very few people knowing about the technology in the true sense.data science is greatly in demand praspective job seekers have numerous opportunities.it is the fastest growing job on linkedin.this makes data science a highly employable job sector there are very few people who have the required skill set to become a complete data scientist.the field of data science is high in demand but low in supply od data scientists. data science is one of the most highly paid job. this makes data science a highly lucrative career option. data science is a very verstile field. therefore, i will have the opportunity to work in verious fields. data science will not only give you a greate career but will also help you in personal growth. that's why i am taking this course."
   ]
  }
 ],
 "metadata": {
  "kernelspec": {
   "display_name": "Python 3 (ipykernel)",
   "language": "python",
   "name": "python3"
  },
  "language_info": {
   "codemirror_mode": {
    "name": "ipython",
    "version": 3
   },
   "file_extension": ".py",
   "mimetype": "text/x-python",
   "name": "python",
   "nbconvert_exporter": "python",
   "pygments_lexer": "ipython3",
   "version": "3.9.6"
  }
 },
 "nbformat": 4,
 "nbformat_minor": 5
}
