{
 "cells": [
  {
   "cell_type": "code",
   "execution_count": 6,
   "id": "357780c5",
   "metadata": {
    "scrolled": true
   },
   "outputs": [
    {
     "name": "stdout",
     "output_type": "stream",
     "text": [
      "the triple oh list numbers: [3, 6, 9, 12, 15, 18, 21]\n"
     ]
    }
   ],
   "source": [
    "l=[1,2,3,4,5,6,7]\n",
    "def func(x):\n",
    "    return x*3\n",
    "m=list(map(func,l))\n",
    "print(\"the triple oh list numbers:\",m)"
   ]
  },
  {
   "cell_type": "code",
   "execution_count": null,
   "id": "532760a1",
   "metadata": {},
   "outputs": [],
   "source": []
  }
 ],
 "metadata": {
  "kernelspec": {
   "display_name": "Python 3 (ipykernel)",
   "language": "python",
   "name": "python3"
  },
  "language_info": {
   "codemirror_mode": {
    "name": "ipython",
    "version": 3
   },
   "file_extension": ".py",
   "mimetype": "text/x-python",
   "name": "python",
   "nbconvert_exporter": "python",
   "pygments_lexer": "ipython3",
   "version": "3.9.6"
  }
 },
 "nbformat": 4,
 "nbformat_minor": 5
}
